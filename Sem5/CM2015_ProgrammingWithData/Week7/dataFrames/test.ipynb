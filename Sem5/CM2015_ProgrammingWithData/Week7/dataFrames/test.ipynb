{
 "cells": [
  {
   "cell_type": "code",
   "execution_count": 5,
   "metadata": {},
   "outputs": [
    {
     "data": {
      "text/plain": [
       "<AxesSubplot:xlabel='Girth (in)'>"
      ]
     },
     "execution_count": 5,
     "metadata": {},
     "output_type": "execute_result"
    },
    {
     "data": {
      "image/png": "[encoded data removed]",
      "text/plain": [
       "<Figure size 432x288 with 1 Axes>"
      ]
     },
     "metadata": {
      "needs_background": "light"
     },
     "output_type": "display_data"
    }
   ],
   "source": [
    "import csv\n",
    "import pandas as pd\n",
    "\n",
    "# Read data into variable\n",
    "csvData = pd.read_csv(\"trees.csv\")\n",
    "\n",
    "# Top X lines of data (5 w/0 argument)\n",
    "csvData.head(5)\n",
    "\n",
    "# Bottom X lines of data (5 w/0 argument)\n",
    "# print(csvData.tail())\n",
    "\n",
    "# Get data based on the col name\n",
    "# print(csvData['Index'])\n",
    "\n",
    "# print(csvData[\"Girth (in)\"].mean())      # Mean value from the column\n",
    "# print(csvData[\"Girth (in)\"].describe())  # Basic information about the column\n",
    "# print(csvData.shape)                     # Number of rows and columns\n",
    "\n",
    "# Set \"X\" column as index of the data frame\n",
    "csvData.set_index(\"Index\", inplace=True)\n",
    "\n",
    "# Sort data\n",
    "csvData.sort_values(by=[\"Height (ft)\"], ascending=True, inplace=True)\n",
    "\n",
    "# Locate data based on filters\n",
    "# csvData.loc[(csvData['Girth (in)'] > 12) & (csvData['Volume(ft^3)'] < 30)]\n",
    "\n",
    "# Plot a graph\n",
    "# csvData.plot.scatter(x='Height (ft)', y='Volume(ft^3)')\n",
    "\n",
    "# Plot a chart\n",
    "csvData.sort_values(by='Girth (in)', ascending=True).plot(kind='bar', rot = 0, x='Girth (in)', y='Volume(ft^3)')\n"
   ]
  }
 ],
 "metadata": {
  "interpreter": {
   "hash": "2be5faf79681da6f2a61fdfdd5405d65d042280f7fba6178067603e3a2925119"
  },
  "kernelspec": {
   "display_name": "Python 3.10.0 64-bit",
   "language": "python",
   "name": "python3"
  },
  "language_info": {
   "codemirror_mode": {
    "name": "ipython",
    "version": 3
   },
   "file_extension": ".py",
   "mimetype": "text/x-python",
   "name": "python",
   "nbconvert_exporter": "python",
   "pygments_lexer": "ipython3",
   "version": "3.10.0"
  },
  "orig_nbformat": 4
 },
 "nbformat": 4,
 "nbformat_minor": 2
}
